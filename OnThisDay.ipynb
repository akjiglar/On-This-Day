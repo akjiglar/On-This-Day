{
  "nbformat": 4,
  "nbformat_minor": 0,
  "metadata": {
    "colab": {
      "name": "OnThisDay.ipynb",
      "provenance": [],
      "collapsed_sections": []
    },
    "kernelspec": {
      "name": "python3",
      "display_name": "Python 3"
    }
  },
  "cells": [
    {
      "cell_type": "markdown",
      "metadata": {
        "id": "p_bgeawzemwS",
        "colab_type": "text"
      },
      "source": [
        "## On this day : Get historical events in python\n",
        "\n",
        "\n",
        "Author : pyGuru\n",
        "\n",
        "Visit pyGuru on youtube for more awesome content"
      ]
    },
    {
      "cell_type": "code",
      "metadata": {
        "id": "S2RejyZhelYM",
        "colab_type": "code",
        "colab": {}
      },
      "source": [
        "import requests\n",
        "from bs4 import BeautifulSoup\n",
        "\n",
        "date = str(22)\n",
        "month = 'march'\n",
        "url = 'https://www.onthisday.com/day/'+ month + '/' + date\n",
        "\n",
        "r = requests.get(url)\n",
        "\n",
        "html = r.text\n",
        "soup = BeautifulSoup(html,'html.parser')"
      ],
      "execution_count": 0,
      "outputs": []
    },
    {
      "cell_type": "markdown",
      "metadata": {
        "id": "96UXze96eyUb",
        "colab_type": "text"
      },
      "source": [
        "Get webpage title"
      ]
    },
    {
      "cell_type": "code",
      "metadata": {
        "id": "q0AMRASue0PY",
        "colab_type": "code",
        "outputId": "16ced880-270b-4c54-cb68-b5868528bf1e",
        "colab": {
          "base_uri": "https://localhost:8080/",
          "height": 34
        }
      },
      "source": [
        "print(soup.title.text)"
      ],
      "execution_count": 0,
      "outputs": [
        {
          "output_type": "stream",
          "text": [
            "March 22 - What Happened - On This Day\n"
          ],
          "name": "stdout"
        }
      ]
    },
    {
      "cell_type": "markdown",
      "metadata": {
        "id": "2dBaQXp2e6c9",
        "colab_type": "text"
      },
      "source": [
        "Important Events"
      ]
    },
    {
      "cell_type": "code",
      "metadata": {
        "id": "KI2FJua4e8Mc",
        "colab_type": "code",
        "outputId": "bfacfcab-f061-464b-a8bf-cd4eaed385d0",
        "colab": {
          "base_uri": "https://localhost:8080/",
          "height": 190
        }
      },
      "source": [
        "divs = soup.find_all('ul',class_='event-list event-list--with-advert')\n",
        "for i in divs:\n",
        "\tprint(i.text,end='')"
      ],
      "execution_count": 0,
      "outputs": [
        {
          "output_type": "stream",
          "text": [
            "\n",
            "1622 First American Indian (Powhatan) massacre of Europeans in Jamestown Virginia, 347 killed\n",
            "1765 Stamp Act passed; 1st direct British tax on American colonists, organized by Prime Minister George Grenville\n",
            "\n",
            "1784 The Emerald Buddha is moved with great ceremony to its current place in Wat Phra Kaew, Thailand\n",
            "1832 British Parliament, led by Charles Grey, passes the Reform Act, introducing wide-ranging changes to electoral system of England and Wales, increasing electorate from about 500,000 voters to 813,000\n",
            "1954 Northland Center, the world's largest shopping mall of the time, opens in Oakpark, Michigan\n",
            "1965 US confirms its troops used chemical warfare against the Vietcong\n",
            "2018 US President Donald Trump imposes $60 billion worth of tariffs on Chinese imports\n"
          ],
          "name": "stdout"
        }
      ]
    },
    {
      "cell_type": "markdown",
      "metadata": {
        "id": "Stq_B4yke86V",
        "colab_type": "text"
      },
      "source": [
        "Famous Birthdays"
      ]
    },
    {
      "cell_type": "code",
      "metadata": {
        "id": "jZBedohvfBHZ",
        "colab_type": "code",
        "outputId": "d46a5582-bdd4-43ca-8e53-262f88da8e82",
        "colab": {
          "base_uri": "https://localhost:8080/",
          "height": 119
        }
      },
      "source": [
        "birthdays = soup.find('ul',class_='photo-list')\n",
        "bdays = birthdays.find_all('li')\n",
        "for i in bdays:\n",
        "\tprint(i.text)"
      ],
      "execution_count": 0,
      "outputs": [
        {
          "output_type": "stream",
          "text": [
            "Robert A. Millikan(1868 - 1953)\n",
            "Emilio Aguinaldo(1869 - 1964)\n",
            "William Shatner89 Years Old\n",
            "Andrew Lloyd Webber72 Years Old\n",
            "Reese Witherspoon44 Years Old\n",
            "Constance Wu38 Years Old\n"
          ],
          "name": "stdout"
        }
      ]
    },
    {
      "cell_type": "markdown",
      "metadata": {
        "id": "9doDghEZfED0",
        "colab_type": "text"
      },
      "source": [
        "This day in movies, music and sports"
      ]
    },
    {
      "cell_type": "code",
      "metadata": {
        "id": "Pyb5iy09fGg9",
        "colab_type": "code",
        "outputId": "51a215ab-a920-4da8-ede8-4d0915e26d21",
        "colab": {
          "base_uri": "https://localhost:8080/",
          "height": 561
        }
      },
      "source": [
        "check = soup.find_all('section',class_='grid__item one-half--1024')\n",
        "for i in check:\n",
        "\tprint(i.text)"
      ],
      "execution_count": 0,
      "outputs": [
        {
          "output_type": "stream",
          "text": [
            "\n",
            "March 22 in Film & TV\n",
            "\n",
            "1895 Auguste & Louis Lumiere show their 1st movie to an invited audience\n",
            "\n",
            "\n",
            "\n",
            "March 22 in Music\n",
            "\n",
            "1963 Beatles release 1st album, \"Please Please Me\"\n",
            "\n",
            "\n",
            "\n",
            "March 22 in Sport\n",
            "\n",
            "1896 Charilaos Vasilakos of Greece wins 1st modern marathon in 3:18 at the Panhellenic Games\n",
            "\n",
            "\n",
            "\n",
            "Famous Weddings\n",
            "\n",
            "1916 British author \"The Lord of the Rings\", J.R.R. Tolkien marries Edith Mary Bratt at St. Mary Immaculate Roman Catholic Church, Warwick\n",
            "1984 Composer Andrew Lloyd Webber (36) weds singer/dancer Sarah Brightman (23) in Hampshire, England\n",
            "1992 Record producer Lou Adler weds Paige Hannah (Daryl's sister)\n",
            "\n",
            "\n",
            "\n",
            "Famous Divorces\n",
            "\n",
            "1948 Musician Nat King Cole (29) divorces dancer Nadine Robinson after 11 years of marriage\n",
            "\n",
            "\n"
          ],
          "name": "stdout"
        }
      ]
    },
    {
      "cell_type": "markdown",
      "metadata": {
        "id": "JXlnRyVEfJNF",
        "colab_type": "text"
      },
      "source": [
        "Random fact related to this day"
      ]
    },
    {
      "cell_type": "code",
      "metadata": {
        "id": "6O2WY1uRfLff",
        "colab_type": "code",
        "outputId": "70344c19-c2cc-4995-b4cb-25df5466a579",
        "colab": {
          "base_uri": "https://localhost:8080/",
          "height": 255
        }
      },
      "source": [
        "did_you_know = soup.find_all('section',class_='section section--highlight section--did-you-know')\n",
        "for i in did_you_know:\n",
        "    print(i.text)"
      ],
      "execution_count": 14,
      "outputs": [
        {
          "output_type": "stream",
          "text": [
            "\n",
            "\n",
            "Did You Know?\n",
            "The St. Petersburg–Tampa Airboat Line becomes the world's first scheduled airline\n",
            "On March 22, 1914\n",
            "\n",
            "\n",
            "\n",
            "\n",
            "Would You Believe?\n",
            "Niagera Falls runs out of water because of a drought\n",
            "On March 22, 1903\n",
            "\n",
            "\n"
          ],
          "name": "stdout"
        }
      ]
    },
    {
      "cell_type": "code",
      "metadata": {
        "id": "KSgAle7q1b4i",
        "colab_type": "code",
        "colab": {}
      },
      "source": [
        ""
      ],
      "execution_count": 0,
      "outputs": []
    }
  ]
}